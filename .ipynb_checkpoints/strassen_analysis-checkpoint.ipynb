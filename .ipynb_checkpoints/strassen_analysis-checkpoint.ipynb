{
 "cells": [
  {
   "cell_type": "markdown",
   "metadata": {},
   "source": [
    "# Análisis del Algoritmo de Strassen\n",
    "\n",
    "Este notebook ejecuta y analiza el rendimiento del algoritmo de Strassen para multiplicación de matrices, comparando tiempos medidos con el tiempo teórico esperado $ O(n^{\\log_2 7}) \\approx O(n^{2.807}) $.\n",
    "\n",
    "Se extraen resultados del script `strassen_pure_labels.py`, se ajusta un modelo teórico mediante regresión, y se generan gráficas y tablas para el análisis."
   ]
  },
  {
   "cell_type": "code",
   "execution_count": null,
   "metadata": {},
   "outputs": [],
   "source": [
    "import subprocess\n",
    "import re\n",
    "import numpy as np\n",
    "import matplotlib.pyplot as plt\n",
    "import sys"
   ]
  },
  {
   "cell_type": "markdown",
   "metadata": {},
   "source": [
    "## 1. Ejecutar el experimento original"
   ]
  },
  {
   "cell_type": "code",
   "execution_count": null,
   "metadata": {},
   "outputs": [],
   "source": [
    "def run_original_experiment():\n",
    "    \"\"\"Ejecuta el código original y captura sus resultados\"\"\"\n",
    "    print(\"Ejecutando experimento original (sin modificaciones)...\")\n",
    "    result = subprocess.run(\n",
    "        [sys.executable, \"strassen_pure_labels.py\"],\n",
    "        capture_output=True,\n",
    "        text=True\n",
    "    )\n",
    "    \n",
    "    if result.returncode != 0:\n",
    "        print(\"Error al ejecutar el experimento:\")\n",
    "        print(result.stderr)\n",
    "        sys.exit(1)\n",
    "    \n",
    "    # Extraer resultados con regex\n",
    "    pattern = r\"Tamaño (\\d+): ([\\d.]+) segundos\"\n",
    "    matches = re.findall(pattern, result.stdout)\n",
    "    \n",
    "    if not matches:\n",
    "        print(\"No se encontraron resultados en la salida. Verifica el formato de impresión.\")\n",
    "        sys.exit(1)\n",
    "    \n",
    "    sizes = [int(m[0]) for m in matches]\n",
    "    times = [float(m[1]) for m in matches]\n",
    "    \n",
    "    print(\"\\nResultados capturados:\")\n",
    "    for n, t in zip(sizes, times):\n",
    "        print(f\"  n = {n}: {t:.6f} s\")\n",
    "    \n",
    "    return sizes, times"
   ]
  },
  {
   "cell_type": "markdown",
   "metadata": {},
   "source": [
    "## 2. Calcular tiempo teórico y overhead"
   ]
  },
  {
   "cell_type": "code",
   "execution_count": null,
   "metadata": {},
   "outputs": [],
   "source": [
    "def calculate_theoretical_time(sizes, times_measured):\n",
    "    \"\"\"Calcula tiempo teórico y overhead usando mínimos cuadrados\"\"\"\n",
    "    exponent = np.log2(7)  # ≈ 2.807\n",
    "    \n",
    "    # Convertir a logaritmos\n",
    "    log_sizes = np.log(sizes)\n",
    "    log_times = np.log(times_measured)\n",
    "    \n",
    "    # Calcular constante 'c' con regresión lineal (pendiente fija en 2.807)\n",
    "    log_c = np.mean(log_times - exponent * log_sizes)\n",
    "    c = np.exp(log_c)\n",
    "    \n",
    "    # Tiempo teórico\n",
    "    times_theoretical = c * (np.array(sizes) ** exponent)\n",
    "    \n",
    "    # Overhead\n",
    "    overhead = np.array(times_measured) / times_theoretical\n",
    "    \n",
    "    return c, times_theoretical, overhead"
   ]
  },
  {
   "cell_type": "markdown",
   "metadata": {},
   "source": [
    "## 3. Mostrar tabla de resultados"
   ]
  },
  {
   "cell_type": "code",
   "execution_count": null,
   "metadata": {},
   "outputs": [],
   "source": [
    "def print_results_table(sizes, times_measured, times_theoretical, overhead):\n",
    "    \"\"\"Imprime tabla de resultados formateada\"\"\"\n",
    "    print(\"\\n\" + \"=\"*60)\n",
    "    print(f\"{'RESULTADOS DEL EXPERIMENTO':^60}\")\n",
    "    print(\"=\"*60)\n",
    "    print(f\"{'n':<8}{'Medido (s)':<15}{'Teórico (s)':<15}{'Overhead':<10}{'% Error':<10}\")\n",
    "    print(\"-\"*60)\n",
    "    \n",
    "    for i in range(len(sizes)):\n",
    "        error_pct = (overhead[i] - 1) * 100\n",
    "        print(f\"{sizes[i]:<8}{times_measured[i]:<15.6f}{times_theoretical[i]:<15.6f}\"\n",
    "              f\"{overhead[i]:<10.2f}{error_pct:<10.1f}%\")\n",
    "    \n",
    "    print(\"-\"*60)\n",
    "    print(f\"{'PROMEDIO':<8}{'':<15}{'':<15}{np.mean(overhead):<10.2f}\"\n",
    "          f\"{np.mean(np.abs(overhead - 1)) * 100:<10.1f}%\")\n",
    "    print(\"=\"*60)"
   ]
  },
  {
   "cell_type": "markdown",
   "metadata": {},
   "source": [
    "## 4. Generar gráficas de análisis"
   ]
  },
  {
   "cell_type": "code",
   "execution_count": null,
   "metadata": {},
   "outputs": [],
   "source": [
    "def plot_analysis(sizes, times_measured, times_theoretical, overhead):\n",
    "    \"\"\"Genera gráficas de análisis\"\"\"\n",
    "    plt.figure(figsize=(15, 10))\n",
    "    \n",
    "    # Gráfica 1: Tiempos medidos vs teóricos (escala lineal)\n",
    "    plt.subplot(2, 2, 1)\n",
    "    plt.plot(sizes, times_measured, 'o-', label='Medido', color='tab:blue')\n",
    "    plt.plot(sizes, times_theoretical, 's--', label='Teórico', color='tab:red')\n",
    "    \n",
    "    for n, t in zip(sizes, times_measured):\n",
    "        plt.text(n, t, f'{n}', ha='center', va='bottom')\n",
    "    \n",
    "    plt.title('Tiempos: Medido vs Teórico (Escala Lineal)')\n",
    "    plt.xlabel('Tamaño n')\n",
    "    plt.ylabel('Tiempo (s)')\n",
    "    plt.grid(True, linestyle='--', alpha=0.7)\n",
    "    plt.legend()\n",
    "    \n",
    "    # Gráfica 2: Escala log-log para verificar complejidad\n",
    "    plt.subplot(2, 2, 2)\n",
    "    plt.loglog(sizes, times_measured, 'o-', base=2, label='Medido', color='tab:blue')\n",
    "    \n",
    "    # Línea de referencia para O(n^2.807)\n",
    "    n_fit = np.logspace(np.log2(min(sizes)), np.log2(max(sizes)), 50, base=2)\n",
    "    plt.loglog(n_fit, times_theoretical[0] * (n_fit/sizes[0])**np.log2(7), \n",
    "               'r--', label=r'O($n^{2.807}$)')\n",
    "    \n",
    "    # Línea de referencia para O(n^3)\n",
    "    plt.loglog(n_fit, times_theoretical[0] * (n_fit/sizes[0])**3, \n",
    "               'g:', label=r'O($n^3$)')\n",
    "    \n",
    "    for n, t in zip(sizes, times_measured):\n",
    "        plt.text(n, t, f'{n}', ha='center', va='bottom')\n",
    "    \n",
    "    plt.title('Análisis de Complejidad (Escala Log-Log)')\n",
    "    plt.xlabel('Tamaño n (log scale)')\n",
    "    plt.ylabel('Tiempo (s) (log scale)')\n",
    "    plt.grid(True, which=\"both\", ls=\"-\", alpha=0.7)\n",
    "    plt.legend()\n",
    "    \n",
    "    # Calcular pendiente real\n",
    "    log_sizes = np.log2(sizes)\n",
    "    log_times = np.log2(times_measured)\n",
    "    slope = np.polyfit(log_sizes[1:], log_times[1:], 1)[0]  # Ignorar n=2 si es ruidoso\n",
    "    \n",
    "    plt.annotate(f'Pendiente medida: {slope:.3f}\\nTeórica: 2.807', \n",
    "                 xy=(0.05, 0.15), xycoords='axes fraction',\n",
    "                 bbox=dict(boxstyle=\"round,pad=0.3\", fc=\"white\", ec=\"gray\", alpha=0.8))\n",
    "    \n",
    "    # Gráfica 3: Overhead\n",
    "    plt.subplot(2, 2, 3)\n",
    "    plt.plot(sizes, overhead, 'o-', color='tab:purple')\n",
    "    plt.axhline(y=1, color='r', linestyle='--', alpha=0.7)\n",
    "    \n",
    "    for n, oh in zip(sizes, overhead):\n",
    "        plt.text(n, oh, f'{oh:.2f}', ha='center', va='bottom')\n",
    "    \n",
    "    plt.title('Overhead (Tiempo Medido / Tiempo Teórico)')\n",
    "    plt.xlabel('Tamaño n')\n",
    "    plt.ylabel('Overhead')\n",
    "    plt.grid(True, linestyle='--', alpha=0.7)\n",
    "    \n",
    "    # Gráfica 4: % Error\n",
    "    plt.subplot(2, 2, 4)\n",
    "    error_pct = (overhead - 1) * 100\n",
    "    plt.bar(sizes, error_pct, color=['tab:green' if e <= 0 else 'tab:red' for e in error_pct])\n",
    "    \n",
    "    for n, e in zip(sizes, error_pct):\n",
    "        plt.text(n, e + (1 if e >= 0 else -3), f'{e:.1f}%', ha='center')\n",
    "    \n",
    "    plt.axhline(y=0, color='k', linestyle='-', alpha=0.3)\n",
    "    plt.title('Error Relativo vs. Tiempo Teórico')\n",
    "    plt.xlabel('Tamaño n')\n",
    "    plt.ylabel('Error (%)')\n",
    "    plt.grid(axis='y', linestyle='--', alpha=0.7)\n",
    "    \n",
    "    plt.tight_layout()\n",
    "    plt.savefig('strassen_analysis.png', dpi=300, bbox_inches='tight')\n",
    "    print(\"\\n✅ Gráficas guardadas en 'strassen_analysis.png'\")\n",
    "    plt.show()"
   ]
  },
  {
   "cell_type": "markdown",
   "metadata": {},
   "source": [
    "## 5. Ejecución principal"
   ]
  },
  {
   "cell_type": "code",
   "execution_count": null,
   "metadata": {},
   "outputs": [],
   "source": [
    "def main():\n",
    "    # 1. Ejecutar experimento original\n",
    "    sizes, times_measured = run_original_experiment()\n",
    "    \n",
    "    # 2. Calcular tiempo teórico y overhead\n",
    "    c, times_theoretical, overhead = calculate_theoretical_time(sizes, times_measured)\n",
    "    \n",
    "    # 3. Mostrar tabla de resultados\n",
    "    print_results_table(sizes, times_measured, times_theoretical, overhead)\n",
    "    \n",
    "    # 4. Generar gráficas\n",
    "    plot_analysis(sizes, times_measured, times_theoretical, overhead)\n",
    "    \n",
    "    # 5. Análisis final\n",
    "    print(\"\\n\" + \"=\"*60)\n",
    "    print(\"ANÁLISIS FINAL\")\n",
    "    print(\"=\"*60)\n",
    "    print(f\"- Constante de proporcionalidad (c): {c:.2e}\")\n",
    "    print(f\"- Pendiente medida en escala log-log: {np.polyfit(np.log2(sizes)[1:], np.log2(times_measured)[1:], 1)[0]:.3f}\")\n",
    "    print(f\"- Overhead promedio: {np.mean(overhead):.2f}x\")\n",
    "    print(f\"- Tiempo teórico para n=1024: {c * (1024**np.log2(7)):.4f} s\")\n",
    "    \n",
    "    if np.mean(overhead) > 3.0:\n",
    "        print(\"\\n⚠️  ADVERTENCIA: Overhead muy alto. Strassen puro no es práctico en Python para estos tamaños.\")\n",
    "        print(\"   Considera añadir un umbral de recursión (ej.: usar algoritmo tradicional para n < 64).\")\n",
    "    else:\n",
    "        print(\"\\n✅ El algoritmo se acerca a su complejidad teórica para los tamaños medidos.\")"
   ]
  },
  {
   "cell_type": "code",
   "execution_count": null,
   "metadata": {},
   "outputs": [],
   "source": [
    "main()"
   ]
  }
 ],
 "metadata": {
  "kernelspec": {
   "display_name": "Python 3",
   "language": "python",
   "name": "python3"
  },
  "language_info": {
   "codemirror_mode": {
    "name": "ipython",
    "version": 3
   },
   "file_extension": ".py",
   "mimetype": "text/x-python",
   "name": "python",
   "nbconvert_exporter": "python",
   "pygments_lexer": "ipython3",
   "version": "3.x"
  }
 },
 "nbformat": 4,
 "nbformat_minor": 4
}